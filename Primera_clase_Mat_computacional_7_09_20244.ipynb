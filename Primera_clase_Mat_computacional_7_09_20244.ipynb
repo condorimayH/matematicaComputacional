{
  "cells": [
    {
      "cell_type": "markdown",
      "metadata": {
        "id": "ILUUynhaSVZM"
      },
      "source": [
        "#**Colab**\n",
        "[ Enlace ](https://www.hostgator.mx/blog/google-colab/)\n"
      ]
    },
    {
      "cell_type": "code",
      "execution_count": null,
      "metadata": {
        "colab": {
          "base_uri": "https://localhost:8080/"
        },
        "id": "o_Vy3qB5VGUN",
        "outputId": "da283e8d-b0e6-4ac3-8a2d-7bb14320cdf1"
      },
      "outputs": [
        {
          "data": {
            "text/plain": [
              "4"
            ]
          },
          "execution_count": 3,
          "metadata": {},
          "output_type": "execute_result"
        }
      ],
      "source": [
        "x = 1\n",
        "y = 3\n",
        "z = x + y\n",
        "z\n",
        "#print(z)"
      ]
    },
    {
      "cell_type": "markdown",
      "metadata": {
        "id": "nP2eRayhWZN2"
      },
      "source": [
        "#**Introduccion al lenguaje de programacion  Python**"
      ]
    },
    {
      "cell_type": "markdown",
      "metadata": {
        "id": "zgIc3f_A6nbo"
      },
      "source": [
        "¿por qué lo hace lento a python?, por que el usuario no le da orden con cantidad de decimales va trabajar por ejemplo, lo hace  deficiente."
      ]
    },
    {
      "cell_type": "markdown",
      "metadata": {
        "id": "QLF7-ORCWwZ9"
      },
      "source": [
        "#**Generalidades**"
      ]
    },
    {
      "cell_type": "markdown",
      "metadata": {
        "id": "iA2Ryhn1W3kc"
      },
      "source": [
        "## Tipos de datos integrados"
      ]
    },
    {
      "cell_type": "markdown",
      "metadata": {
        "id": "LPqgB1aHXKOs"
      },
      "source": [
        "Tipo   | Descripcion\n",
        "-------|------------\n",
        "string | Cadena de texto\n",
        "int    | Número entero\n",
        "float  | Número real\n",
        "bool   | booleano"
      ]
    },
    {
      "cell_type": "markdown",
      "metadata": {
        "id": "rsZZ0l4uYV9s"
      },
      "source": [
        "#**Variables**\n",
        "Símbolo que nos permite obtener informacion referente al lugar de almacenaminto de un dato en memoria"
      ]
    },
    {
      "cell_type": "code",
      "execution_count": 13,
      "metadata": {
        "colab": {
          "base_uri": "https://localhost:8080/"
        },
        "id": "bWXQyyFxane7",
        "outputId": "47131a79-8613-4522-fc34-55fd5d8b3333"
      },
      "outputs": [
        {
          "data": {
            "text/plain": [
              "str"
            ]
          },
          "execution_count": 13,
          "metadata": {},
          "output_type": "execute_result"
        }
      ],
      "source": [
        "nom = \"Adalberto\"\n",
        "apell = 'Zamora'\n",
        "type(nom)"
      ]
    },
    {
      "cell_type": "code",
      "execution_count": 14,
      "metadata": {
        "colab": {
          "base_uri": "https://localhost:8080/"
        },
        "id": "C3A5yNIzbAAb",
        "outputId": "8ae80bf9-73c8-4674-96a6-d485b18bf861"
      },
      "outputs": [
        {
          "name": "stdout",
          "output_type": "stream",
          "text": [
            "Adalberto\n",
            "Zamora\n"
          ]
        }
      ],
      "source": [
        "print(nom)\n",
        "print(apell)\n"
      ]
    },
    {
      "cell_type": "markdown",
      "metadata": {
        "id": "1bzPU2c6b929"
      },
      "source": [
        "##**Operadores aritméticos y operadores lógicos**"
      ]
    },
    {
      "cell_type": "markdown",
      "metadata": {
        "id": "f7Lfjav8cTxb"
      },
      "source": [
        "Descripción  | Oprador\n",
        "-------------|---------\n",
        "Suma         | +\n",
        "Diferencias  | -\n",
        "Producto     | *\n",
        "Division     | /\n",
        "Potencia     | **\n",
        "Módulo       | %\n",
        "Disyuncion   | or\n",
        "Conjuncion   | and\n",
        "Negación     | not"
      ]
    },
    {
      "cell_type": "markdown",
      "metadata": {
        "id": "zRvRb0NUx-rL"
      },
      "source": [
        "##**Inserción de código LaTex**\n",
        "\n",
        "$$\\frac{a}{b+c}$$\n",
        "\n",
        "$$x+y+\\mathcal{T}$$"
      ]
    },
    {
      "cell_type": "markdown",
      "metadata": {
        "id": "ZvAecIge071F"
      },
      "source": [
        "# Funciones integradas"
      ]
    },
    {
      "cell_type": "markdown",
      "metadata": {
        "id": "n41Ge4x56mnf"
      },
      "source": [
        "$x=-3.1415$ \\\\\n",
        "$y=abs(x**2)$   funcion de valor absoluto \\\\\n",
        "$print(y)$"
      ]
    },
    {
      "cell_type": "code",
      "execution_count": 15,
      "metadata": {
        "colab": {
          "base_uri": "https://localhost:8080/"
        },
        "id": "v4QF-1WFx9QU",
        "outputId": "4b2a1797-d86b-490c-e4f6-e8b4f4e481d7"
      },
      "outputs": [
        {
          "name": "stdout",
          "output_type": "stream",
          "text": [
            "9.86902225\n"
          ]
        }
      ],
      "source": [
        "x=-3.1415\n",
        "y=abs(x**2) #funcion de valor absoluto\n",
        "print(y)\n"
      ]
    },
    {
      "cell_type": "code",
      "execution_count": null,
      "metadata": {
        "colab": {
          "base_uri": "https://localhost:8080/"
        },
        "id": "pu0-eMcy7S5N",
        "outputId": "09170564-de1b-45db-c21b-9cc4f699a59e"
      },
      "outputs": [
        {
          "data": {
            "text/plain": [
              "8"
            ]
          },
          "execution_count": 4,
          "metadata": {},
          "output_type": "execute_result"
        }
      ],
      "source": [
        "x=2\n",
        "y=3\n",
        "z=pow(x,y) # funcion potencia\n",
        "z\n",
        "#print(z)"
      ]
    },
    {
      "cell_type": "code",
      "execution_count": null,
      "metadata": {
        "colab": {
          "base_uri": "https://localhost:8080/"
        },
        "id": "Z6oj1wEj7oea",
        "outputId": "1ebba2e8-aad7-4dc6-8965-cca1c4575597"
      },
      "outputs": [
        {
          "name": "stdout",
          "output_type": "stream",
          "text": [
            "3\n"
          ]
        }
      ],
      "source": [
        "m=max(x,y) # funcion maximo\n",
        "print(m)"
      ]
    },
    {
      "cell_type": "code",
      "execution_count": 16,
      "metadata": {
        "colab": {
          "base_uri": "https://localhost:8080/"
        },
        "id": "b3jzh9Ee7yiT",
        "outputId": "9af3d918-4d10-4e32-808c-484300ddc87e"
      },
      "outputs": [
        {
          "name": "stdout",
          "output_type": "stream",
          "text": [
            "0x19\n"
          ]
        },
        {
          "data": {
            "text/plain": [
              "str"
            ]
          },
          "execution_count": 16,
          "metadata": {},
          "output_type": "execute_result"
        }
      ],
      "source": [
        "h=hex(25) #funcion que convierte a hexadecimal en forma string\n",
        "print(h)\n",
        "type(h)"
      ]
    },
    {
      "cell_type": "code",
      "execution_count": null,
      "metadata": {
        "colab": {
          "base_uri": "https://localhost:8080/"
        },
        "id": "9e-tCwEP9OgG",
        "outputId": "84ec5ae9-b741-4f98-d742-e8a6600c4594"
      },
      "outputs": [
        {
          "name": "stdout",
          "output_type": "stream",
          "text": [
            "Adalberto\n"
          ]
        },
        {
          "data": {
            "text/plain": [
              "9"
            ]
          },
          "execution_count": 8,
          "metadata": {},
          "output_type": "execute_result"
        }
      ],
      "source": [
        "print(nom)\n",
        "len(nom)"
      ]
    },
    {
      "cell_type": "markdown",
      "metadata": {
        "id": "Ghahr_pv8Fp5"
      },
      "source": [
        "Mas informacion sobre tipos, operaciones y funciones integradas [texto del enlace](https://docs.python.org/es/3/library/functions.html)\n",
        "\n",
        "[ enlace](https://docs.python.org/es/3/library/stdtypes.html#list)"
      ]
    },
    {
      "cell_type": "markdown",
      "metadata": {
        "id": "RFcej1kcJE8q"
      },
      "source": [
        "##**Estructura de datos en Python**\n",
        "![estructura python.png](data:image/png;base64,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)\n",
        "\n",
        "\n",
        "\n",
        "\n",
        "\n",
        "\n",
        "\n",
        "Recuperado en [texto del enlace](https://towardsdatascience.com/which-python-data-structure-should-you-use-fa1edd82946c)   \\\\\n",
        "\n",
        "**otra forma directamente  sin descargar el imagen** \\\\\n",
        "Recuperado de [enlace](https://towardsdatascience.com/which-python-data-structure-should-you-use-fa1edd82946c)\n",
        "<img src=\"https://miro.medium.com/max/1400/1*2JFd94q0vzsEcr-LB-220g.png\">\n"
      ]
    },
    {
      "cell_type": "markdown",
      "metadata": {
        "id": "7inEK3uV8qiY"
      },
      "source": [
        "##**Funciones matematicas del modulo math**\n",
        "[texto del enlace](https://docs.python.org/es/3.10/library/math.html)\n",
        "\n",
        "\n",
        "[ enlace](https://docs.python.org/es/3/library/math.html)\n",
        "[ enlace](https://docs.python.org/pt-br/3/library/functions.html)\n"
      ]
    },
    {
      "cell_type": "markdown",
      "metadata": {
        "id": "Xd7SIUpQDJsN"
      },
      "source": [
        "##**Lista**\n",
        "\n",
        "estructura que permite almacenar elementos de diferentes tipos. Esto hace que las listas sean poderosas porque le permite crear estructuraas de datos profundas y complejas. ¡es mutable!"
      ]
    },
    {
      "cell_type": "code",
      "execution_count": 17,
      "metadata": {
        "colab": {
          "base_uri": "https://localhost:8080/"
        },
        "id": "sxXDQ4w0D1-o",
        "outputId": "de38641c-f2b4-49e4-d22b-0903368813ab"
      },
      "outputs": [
        {
          "name": "stdout",
          "output_type": "stream",
          "text": [
            "<class 'list'>\n",
            "1\n",
            "Jorge\n",
            "True\n"
          ]
        }
      ],
      "source": [
        "lista1=[1, \"Jorge\", True] # Esto es un objeto de la estructura lista\n",
        "print(type(lista1))\n",
        "print(lista1[0]) #imprime la entrada con indice cero\n",
        "print(lista1[1])\n",
        "print(lista1[2])\n"
      ]
    },
    {
      "cell_type": "markdown",
      "metadata": {
        "id": "B3Y6S1uzN2GO"
      },
      "source": [
        "**Aquí jugando**"
      ]
    },
    {
      "cell_type": "code",
      "execution_count": 18,
      "metadata": {
        "colab": {
          "base_uri": "https://localhost:8080/"
        },
        "id": "YSP7FCHiE5U2",
        "outputId": "ea2c47e8-712a-47dc-9d8b-1cd1763dfea8"
      },
      "outputs": [
        {
          "name": "stdout",
          "output_type": "stream",
          "text": [
            "<class 'list'>\n",
            "Pepe\n",
            "[1, 'Jorge', True]\n",
            "Jorge\n"
          ]
        }
      ],
      "source": [
        "lista2=[255, \"Pepe\", lista1] # lista dentro de lista\n",
        "print(type(lista1))\n",
        "print(lista2[1]) #imprime la entrada con indice cero\n",
        "print(lista2[2])\n",
        "print(lista2[2][1]) # accediendo al elemento con indice 1 del elemento con indice 2"
      ]
    },
    {
      "cell_type": "code",
      "execution_count": 19,
      "metadata": {
        "colab": {
          "base_uri": "https://localhost:8080/"
        },
        "id": "2q1YstYnLdp8",
        "outputId": "fcd199a2-cef1-4c70-cbf5-e6c7a6bf2e4d"
      },
      "outputs": [
        {
          "name": "stdout",
          "output_type": "stream",
          "text": [
            "<class 'list'>\n",
            "255\n",
            "Pepe\n",
            "1\n"
          ]
        }
      ],
      "source": [
        "lista2=[255, \"Pepe\", lista1] # lista dentro de lista\n",
        "print(type(lista1))\n",
        "print(lista2[0]) #imprime la entrada con indice cero\n",
        "print(lista2[1])\n",
        "print(lista2[2][0]) # accediendo al elemento con indice 1 del elemento con indice 2"
      ]
    },
    {
      "cell_type": "code",
      "execution_count": 20,
      "metadata": {
        "colab": {
          "base_uri": "https://localhost:8080/"
        },
        "id": "k5Qy82uMMI38",
        "outputId": "a415cff3-788d-40d3-e40d-b31b51ee625e"
      },
      "outputs": [
        {
          "name": "stdout",
          "output_type": "stream",
          "text": [
            "<class 'list'>\n",
            "255\n",
            "Pepe\n",
            "True\n"
          ]
        }
      ],
      "source": [
        "lista2=[255, \"Pepe\", lista1] # lista dentro de lista\n",
        "print(type(lista1))\n",
        "print(lista2[0]) #imprime la entrada con indice cero\n",
        "print(lista2[1])\n",
        "print(lista2[2][2]) # accediendo al elemento con indice 1 del elemento con indice 2"
      ]
    },
    {
      "cell_type": "code",
      "execution_count": 21,
      "metadata": {
        "colab": {
          "base_uri": "https://localhost:8080/"
        },
        "id": "GPM1ZyffOTdm",
        "outputId": "919b79a8-1c21-4631-944b-6b47bad00aa8"
      },
      "outputs": [
        {
          "name": "stdout",
          "output_type": "stream",
          "text": [
            "<class 'list'>\n",
            "255\n",
            "[1, 'Jorge', True]\n",
            "True\n"
          ]
        }
      ],
      "source": [
        "lista2=[255, \"Pepe\", lista1] # lista dentro de lista\n",
        "print(type(lista1))\n",
        "print(lista2[0]) #imprime la entrada con indice cero\n",
        "print(lista2[2])\n",
        "print(lista2[2][2]) # accediendo al elemento con indice 1 del elemento con indice 2"
      ]
    },
    {
      "cell_type": "markdown",
      "metadata": {
        "id": "Jw8fJlccO7SP"
      },
      "source": [
        "#**Metodos y funciones para listas**\n",
        "\n",
        "Un metodo es una funcion que **pertenece** a un objeto"
      ]
    },
    {
      "cell_type": "code",
      "execution_count": 22,
      "metadata": {
        "colab": {
          "base_uri": "https://localhost:8080/"
        },
        "id": "v1C6SwVDPNcq",
        "outputId": "7963138d-eae6-4332-9569-c9cabe495959"
      },
      "outputs": [
        {
          "name": "stdout",
          "output_type": "stream",
          "text": [
            "[12, 13, 23, 23, 25, 45]\n"
          ]
        }
      ],
      "source": [
        "edades=[25,23,12,45,13,23]\n",
        "#edades.sort\n",
        "edades.sort() # metodo de sort para reordenar\n",
        "print(edades)\n"
      ]
    },
    {
      "cell_type": "code",
      "execution_count": 23,
      "metadata": {
        "colab": {
          "base_uri": "https://localhost:8080/"
        },
        "id": "RUPADX_NPmP5",
        "outputId": "1b298a50-6f9c-473a-a72a-6ff295015df6"
      },
      "outputs": [
        {
          "data": {
            "text/plain": [
              "2"
            ]
          },
          "execution_count": 23,
          "metadata": {},
          "output_type": "execute_result"
        }
      ],
      "source": [
        "edades.count(23) #el metodo count devuelve el numero de ocurrencia de un objeto dentro de una lista"
      ]
    },
    {
      "cell_type": "code",
      "execution_count": 24,
      "metadata": {
        "colab": {
          "base_uri": "https://localhost:8080/"
        },
        "id": "V5NH757YP8uz",
        "outputId": "b18ba831-9dda-4863-f875-5f89b5ffb7a4"
      },
      "outputs": [
        {
          "name": "stdout",
          "output_type": "stream",
          "text": [
            "[25, 23, 12, 45, 13, 23]\n",
            "[12, 13, 23, 23, 25, 45]\n"
          ]
        }
      ],
      "source": [
        "edades2=[25,23,12,45,13,23]\n",
        "#edades.sort\n",
        "edades3=sorted(edades2) # funcion \"sorted\" incorporado  en python\n",
        "print(edades2)\n",
        "print(edades3)\n"
      ]
    },
    {
      "cell_type": "code",
      "execution_count": 25,
      "metadata": {
        "colab": {
          "base_uri": "https://localhost:8080/"
        },
        "id": "nwx2JGTiRiDa",
        "outputId": "95f64d18-8453-4257-9fe7-b66573e24066"
      },
      "outputs": [
        {
          "name": "stdout",
          "output_type": "stream",
          "text": [
            "[33.0, 20.5, 18.7, 12.3]\n"
          ]
        }
      ],
      "source": [
        "pesos=[20.5,33.0, 12.3,18.7]\n",
        "pesos.sort(reverse=True)\n",
        "print(pesos)"
      ]
    },
    {
      "cell_type": "code",
      "execution_count": 26,
      "metadata": {
        "colab": {
          "base_uri": "https://localhost:8080/"
        },
        "id": "-DUlBh7OR9Ax",
        "outputId": "c568ab4d-ca4c-42ce-f3b4-40607693c6d7"
      },
      "outputs": [
        {
          "name": "stdout",
          "output_type": "stream",
          "text": [
            "['triangulo', 'cuadrado', 'trapecio']\n",
            "['triangulo', 'cuadrado', 'trapecio', 'rombo']\n",
            "['rombo', 'trapecio', 'cuadrado', 'triangulo']\n"
          ]
        }
      ],
      "source": [
        "poligonos =[\"triangulo\",\"cuadrado\",\"trapecio\"]\n",
        "print(poligonos)\n",
        "poligonos.append(\"rombo\") # el metodo append sirve para añadir elementos  a la lista\n",
        "print(poligonos)\n",
        "poligonos.reverse()\n",
        "print(poligonos)\n",
        "\n",
        "\n"
      ]
    },
    {
      "cell_type": "code",
      "execution_count": null,
      "metadata": {
        "id": "FvVW_xADUWTw"
      },
      "outputs": [],
      "source": [
        "poligonos =[\"triangulo\",\"cuadrado\",\"trapecio\"]\n",
        "print(poligonos)\n",
        "poligonos.append(\"rombo\") # el metodo append sirve para añadir elementos  a la lista\n",
        "print(poligonos)\n",
        "poligonos.reverse()\n",
        "print(poligonos)\n",
        "#poligonos. acontinuacion que utilizar   OJO"
      ]
    },
    {
      "cell_type": "code",
      "execution_count": null,
      "metadata": {
        "colab": {
          "base_uri": "https://localhost:8080/"
        },
        "id": "Y_RXiPBHS3SQ",
        "outputId": "695e1c8f-0df5-42e8-bf7f-08afea1b1b10"
      },
      "outputs": [
        {
          "name": "stdout",
          "output_type": "stream",
          "text": [
            "['rombo', 'trapecio', 'cuadrado', 'triangulo', ['hexagono', 'pentagono']]\n",
            "['rectangulos', 'rombo', 'trapecio', 'cuadrado', 'triangulo', ['hexagono', 'pentagono']]\n"
          ]
        }
      ],
      "source": [
        "otros=[\"hexagono\",\"pentagono\"]\n",
        "poligonos.append(otros)\n",
        "print(poligonos)\n",
        "poligonos.insert(0,\"rectangulos\")\n",
        "print(poligonos)\n"
      ]
    },
    {
      "cell_type": "code",
      "execution_count": null,
      "metadata": {
        "colab": {
          "base_uri": "https://localhost:8080/"
        },
        "id": "xTidDHEwU8ZM",
        "outputId": "f256fcc8-049a-4eef-fad8-2057e06b8f2e"
      },
      "outputs": [
        {
          "name": "stdout",
          "output_type": "stream",
          "text": [
            "['rectangulos', 'rombo', 'trapecio', 'triangulo', ['hexagono', 'pentagono']]\n"
          ]
        }
      ],
      "source": [
        "poligonos.remove(\"cuadrado\")\n",
        "print(poligonos)"
      ]
    },
    {
      "cell_type": "code",
      "execution_count": null,
      "metadata": {
        "colab": {
          "base_uri": "https://localhost:8080/"
        },
        "id": "Z4b8HCGWVIq0",
        "outputId": "0d7c2b29-36f3-480d-d422-5cc767a1fcf8"
      },
      "outputs": [
        {
          "data": {
            "text/plain": [
              "5"
            ]
          },
          "execution_count": 33,
          "metadata": {},
          "output_type": "execute_result"
        }
      ],
      "source": [
        "len(poligonos)"
      ]
    },
    {
      "cell_type": "code",
      "execution_count": null,
      "metadata": {
        "colab": {
          "base_uri": "https://localhost:8080/"
        },
        "id": "sAzjfxUYVNKL",
        "outputId": "78f27884-3301-4730-ffb2-4ace626f0a2c"
      },
      "outputs": [
        {
          "name": "stdout",
          "output_type": "stream",
          "text": [
            "['a', 'b', 'c', 'c', 'd']\n",
            "['c', 'd', 'a', 'b', 'c']\n"
          ]
        }
      ],
      "source": [
        "list3=[\"a\",\"b\",\"c\"]\n",
        "list4=[\"c\",\"d\"]\n",
        "concat1=list3 + list4 # no es conmutatitvo, concat1 esta concatenado\n",
        "print(concat1)\n",
        "concat2=list4 + list3\n",
        "print(concat2)"
      ]
    },
    {
      "cell_type": "code",
      "execution_count": null,
      "metadata": {
        "colab": {
          "base_uri": "https://localhost:8080/"
        },
        "id": "TKA_AOVhc-g9",
        "outputId": "5427321f-2162-4815-fcec-51fb1778f6bf"
      },
      "outputs": [
        {
          "name": "stdout",
          "output_type": "stream",
          "text": [
            "['a', 'b', 'c']\n",
            "[123, 'b', 'c']\n"
          ]
        }
      ],
      "source": [
        "print(list3)\n",
        "list3[0]=123 # estamos modificando la entrada 0 de list3\n",
        "print(list3)\n"
      ]
    },
    {
      "cell_type": "markdown",
      "metadata": {
        "id": "jcbTvZ7yWgAQ"
      },
      "source": [
        "#**Tupla**\n",
        "Estructura similar a la estructura lista, sin embargo es **inmutable**. \\\\\n",
        "\n",
        "referencia [texto del enlace](https://www.programaenpython.com/fundamentos/tuplas-en-python/)"
      ]
    },
    {
      "cell_type": "code",
      "execution_count": null,
      "metadata": {
        "colab": {
          "base_uri": "https://localhost:8080/"
        },
        "id": "ZegBBPoeauUJ",
        "outputId": "b0f93516-b70e-477a-deaf-69be2a4de28d"
      },
      "outputs": [
        {
          "name": "stdout",
          "output_type": "stream",
          "text": [
            "<class 'tuple'>\n",
            "a\n"
          ]
        },
        {
          "data": {
            "text/plain": [
              "1"
            ]
          },
          "execution_count": 35,
          "metadata": {},
          "output_type": "execute_result"
        }
      ],
      "source": [
        "tup=(\"a\",\"b\",\"c\") # es una tupla\n",
        "print(type(tup))\n",
        "print(tup[0])\n",
        "tup.index(\"b\")\n"
      ]
    },
    {
      "cell_type": "code",
      "execution_count": 29,
      "metadata": {
        "colab": {
          "base_uri": "https://localhost:8080/"
        },
        "id": "z1EUgZWrbWVA",
        "outputId": "39877c5c-92df-4ffe-8d84-43216f38445d"
      },
      "outputs": [
        {
          "name": "stdout",
          "output_type": "stream",
          "text": [
            "<class 'tuple'>\n",
            "b\n"
          ]
        },
        {
          "data": {
            "text/plain": [
              "1"
            ]
          },
          "execution_count": 29,
          "metadata": {},
          "output_type": "execute_result"
        }
      ],
      "source": [
        "tup=(\"a\",\"b\",\"c\") # es una tupla\n",
        "print(type(tup))\n",
        "print(tup[1])\n",
        "tup.index(\"b\")"
      ]
    },
    {
      "cell_type": "code",
      "execution_count": 28,
      "metadata": {
        "colab": {
          "base_uri": "https://localhost:8080/"
        },
        "id": "xPTkEIumbguY",
        "outputId": "4d9aade8-ad60-47fd-8ada-f388fe4c740d"
      },
      "outputs": [
        {
          "name": "stdout",
          "output_type": "stream",
          "text": [
            "<class 'tuple'>\n",
            "c\n"
          ]
        },
        {
          "data": {
            "text/plain": [
              "2"
            ]
          },
          "execution_count": 28,
          "metadata": {},
          "output_type": "execute_result"
        }
      ],
      "source": [
        "tup=(\"a\",\"b\",\"c\") # es una tupla\n",
        "print(type(tup))\n",
        "print(tup[2])\n",
        "tup.index(\"c\")"
      ]
    },
    {
      "cell_type": "code",
      "execution_count": 30,
      "metadata": {
        "colab": {
          "base_uri": "https://localhost:8080/"
        },
        "id": "UjzMy2IDbnjl",
        "outputId": "7dee6d82-9551-431d-d6f7-949b6b0a6bd6"
      },
      "outputs": [
        {
          "name": "stdout",
          "output_type": "stream",
          "text": [
            "Esto ('a', 'b', 'c') es una tupla\n",
            "\n",
            "Esto ('a', 'b', 'c') es una tupla\n",
            "Esto ('a', 'b', 'c') es una tupla\n"
          ]
        }
      ],
      "source": [
        "print(\"Esto\",tup,\"es una tupla\\n\")\n",
        "print(\"Esto\",tup,\"es una tupla\")\n",
        "print(\"Esto\",tup,\"es una tupla\")"
      ]
    },
    {
      "cell_type": "code",
      "execution_count": 31,
      "metadata": {
        "colab": {
          "base_uri": "https://localhost:8080/"
        },
        "id": "tqogjb98cg9f",
        "outputId": "f1e846b5-efd5-4a24-bf40-340b54c434f1"
      },
      "outputs": [
        {
          "data": {
            "text/plain": [
              "1"
            ]
          },
          "execution_count": 31,
          "metadata": {},
          "output_type": "execute_result"
        }
      ],
      "source": [
        "tup.index(\"b\")"
      ]
    },
    {
      "cell_type": "code",
      "execution_count": 32,
      "metadata": {
        "colab": {
          "base_uri": "https://localhost:8080/",
          "height": 141
        },
        "id": "wTOMtU9XcofF",
        "outputId": "454b1b63-4fbe-4c46-e056-380e28c0e26a"
      },
      "outputs": [
        {
          "ename": "TypeError",
          "evalue": "'tuple' object does not support item assignment",
          "output_type": "error",
          "traceback": [
            "\u001b[1;31m---------------------------------------------------------------------------\u001b[0m",
            "\u001b[1;31mTypeError\u001b[0m                                 Traceback (most recent call last)",
            "Cell \u001b[1;32mIn[32], line 1\u001b[0m\n\u001b[1;32m----> 1\u001b[0m \u001b[43mtup\u001b[49m\u001b[43m[\u001b[49m\u001b[38;5;241;43m0\u001b[39;49m\u001b[43m]\u001b[49m\u001b[38;5;241m=\u001b[39m\u001b[38;5;124m\"\u001b[39m\u001b[38;5;124md\u001b[39m\u001b[38;5;124m\"\u001b[39m \u001b[38;5;66;03m#ERROR, es inmutable\u001b[39;00m\n",
            "\u001b[1;31mTypeError\u001b[0m: 'tuple' object does not support item assignment"
          ]
        }
      ],
      "source": [
        "tup[0]=\"d\" #ERROR, es inmutable\n"
      ]
    },
    {
      "cell_type": "markdown",
      "metadata": {
        "id": "8kAFFcjN0VlU"
      },
      "source": [
        "***Rango***\n",
        "\n",
        "Estructura para almacenar sucesiones finitas de numeros enteros. Es inmutable\\\\\n",
        "\n",
        "**ojo** *range* es el constructor \\\\\n",
        " [referencia](https://docs.python.org/es/3/library/stdtypes.html#tuple)"
      ]
    },
    {
      "cell_type": "code",
      "execution_count": 34,
      "metadata": {
        "colab": {
          "base_uri": "https://localhost:8080/"
        },
        "id": "gQ5hsxev0WmW",
        "outputId": "da21f3ea-9fc1-429e-8c31-74e8d803a7eb"
      },
      "outputs": [
        {
          "name": "stdout",
          "output_type": "stream",
          "text": [
            "<class 'range'>\n",
            "range(0, 5)\n",
            "0\n",
            "1\n",
            "2\n",
            "3\n",
            "4\n",
            " El objeto susesion tiene 5 elementos\n"
          ]
        }
      ],
      "source": [
        "sucesion = range(5)\n",
        "print(type(sucesion))\n",
        "print(sucesion)\n",
        "print(sucesion[0])\n",
        "print(sucesion[1])\n",
        "print(sucesion[2])\n",
        "print(sucesion[3])\n",
        "print(sucesion[4])\n",
        "print(\" El objeto susesion tiene\" , len(sucesion), \"elementos\")"
      ]
    },
    {
      "cell_type": "code",
      "execution_count": 35,
      "metadata": {
        "colab": {
          "base_uri": "https://localhost:8080/"
        },
        "id": "UHztRGt82-zz",
        "outputId": "37672f6c-3781-4c64-e87f-9808d547777c"
      },
      "outputs": [
        {
          "name": "stdout",
          "output_type": "stream",
          "text": [
            "<class 'range'>\n",
            "range(0, 8)\n",
            "0\n",
            "1\n",
            "2\n",
            "3\n",
            "4\n",
            " El objeto susesion tiene 8 elementos\n"
          ]
        }
      ],
      "source": [
        "sucesion = range(8)\n",
        "print(type(sucesion))\n",
        "print(sucesion)\n",
        "print(sucesion[0])\n",
        "print(sucesion[1])\n",
        "print(sucesion[2])\n",
        "print(sucesion[3])\n",
        "print(sucesion[4])\n",
        "print(\" El objeto susesion tiene\" , len(sucesion), \"elementos\")"
      ]
    },
    {
      "cell_type": "code",
      "execution_count": 37,
      "metadata": {
        "colab": {
          "base_uri": "https://localhost:8080/"
        },
        "id": "DvbSZkir36NL",
        "outputId": "5f019753-3bd1-45d4-d2e1-86c023e3ad6e"
      },
      "outputs": [
        {
          "name": "stdout",
          "output_type": "stream",
          "text": [
            "0\n"
          ]
        }
      ],
      "source": [
        "print(sucesion[0])"
      ]
    },
    {
      "cell_type": "code",
      "execution_count": 38,
      "metadata": {
        "colab": {
          "base_uri": "https://localhost:8080/"
        },
        "id": "rOlHiNzr4BbB",
        "outputId": "68151dee-1eab-40d7-c2e4-319ae0d72a03"
      },
      "outputs": [
        {
          "name": "stdout",
          "output_type": "stream",
          "text": [
            "range(3, 11, 2)\n",
            "3\n",
            "5\n",
            "7\n",
            "9\n"
          ]
        }
      ],
      "source": [
        "rango = range(3,11,2)\n",
        "print(rango)\n",
        "print(rango[0])\n",
        "print(rango[1])\n",
        "print(rango[2])\n",
        "print(rango[3])\n",
        "#print(rango.stop)"
      ]
    },
    {
      "cell_type": "code",
      "execution_count": 39,
      "metadata": {
        "colab": {
          "base_uri": "https://localhost:8080/"
        },
        "id": "9An-35FT4BQ5",
        "outputId": "7742d8f0-7fc4-4582-a900-3a5141dfed75"
      },
      "outputs": [
        {
          "name": "stdout",
          "output_type": "stream",
          "text": [
            "range(3, 11, 2)\n",
            "3\n",
            "5\n",
            "7\n",
            "9\n"
          ]
        }
      ],
      "source": [
        "rango = range(3,11,2)\n",
        "print(rango)\n",
        "print(rango[0])\n",
        "print(rango[1])\n",
        "print(rango[2])\n",
        "print(rango[3])\n",
        "\n",
        "#print(rango.stop)"
      ]
    },
    {
      "cell_type": "code",
      "execution_count": 40,
      "metadata": {
        "colab": {
          "base_uri": "https://localhost:8080/"
        },
        "id": "uHXW91mF4BGK",
        "outputId": "c811edf3-f39d-4504-d626-b9fa5f0c134d"
      },
      "outputs": [
        {
          "name": "stdout",
          "output_type": "stream",
          "text": [
            "range(3, 11)\n",
            "3\n",
            "4\n",
            "5\n",
            "6\n"
          ]
        },
        {
          "data": {
            "text/plain": [
              "0"
            ]
          },
          "execution_count": 40,
          "metadata": {},
          "output_type": "execute_result"
        }
      ],
      "source": [
        "rango = range(3,11)\n",
        "print(rango)\n",
        "print(rango[0])\n",
        "print(rango[1])\n",
        "print(rango[2])\n",
        "print(rango[3])\n",
        "\n",
        "#print(rango.stop)\n",
        "rango.index(3)"
      ]
    },
    {
      "cell_type": "code",
      "execution_count": 41,
      "metadata": {
        "colab": {
          "base_uri": "https://localhost:8080/"
        },
        "id": "DW460AS84AyA",
        "outputId": "3ce04793-0a89-4788-a8c1-c5624119354e"
      },
      "outputs": [
        {
          "name": "stdout",
          "output_type": "stream",
          "text": [
            "<class 'list'>\n",
            "[3, 4, 5, 6, 7, 8, 9, 10]\n"
          ]
        }
      ],
      "source": [
        "a=list(rango) # convierte en lista\n",
        "print(type(a))\n",
        "print(a)"
      ]
    },
    {
      "cell_type": "code",
      "execution_count": null,
      "metadata": {
        "id": "mVIk12RCAF1X"
      },
      "outputs": [],
      "source": []
    },
    {
      "cell_type": "markdown",
      "metadata": {
        "id": "mMUcbbY-AK59"
      },
      "source": [
        "##**Array**\n",
        "\n",
        "Estructura que almacena datos del mismo tipo. Es mutable."
      ]
    },
    {
      "cell_type": "code",
      "execution_count": 42,
      "metadata": {
        "colab": {
          "base_uri": "https://localhost:8080/"
        },
        "id": "f6TH_jF9C9ak",
        "outputId": "ffa5c887-0fa3-4310-c2ed-96f6118c50c4"
      },
      "outputs": [
        {
          "name": "stdout",
          "output_type": "stream",
          "text": [
            "array('l', [1, 2, 3, 4, 5])\n",
            "<class 'array.array'>\n",
            "longitud de a : 5\n",
            "1\n",
            "2\n",
            "3\n",
            "4\n",
            "5\n"
          ]
        }
      ],
      "source": [
        "from array import array\n",
        "a = array('l',[1,2,3,4,5])\n",
        "print(a)\n",
        "print(type(a))\n",
        "print(\"longitud de a :\", len(a))\n",
        "print(a[0])\n",
        "print(a[1])\n",
        "print(a[2])\n",
        "print(a[3])\n",
        "print(a[4])\n",
        "suma = a[0]+a[4]\n",
        "#print(suma)"
      ]
    },
    {
      "cell_type": "code",
      "execution_count": 43,
      "metadata": {
        "colab": {
          "base_uri": "https://localhost:8080/"
        },
        "id": "0JNOEbW9ErAU",
        "outputId": "671624ec-53a6-4994-fda6-61753e602e88"
      },
      "outputs": [
        {
          "data": {
            "text/plain": [
              "int"
            ]
          },
          "execution_count": 43,
          "metadata": {},
          "output_type": "execute_result"
        }
      ],
      "source": [
        "type(suma)"
      ]
    },
    {
      "cell_type": "markdown",
      "metadata": {
        "id": "DAln_UcSFbLj"
      },
      "source": [
        "**Conjunto (Set)**\n",
        "\n",
        "Estructura de datos con almacenamiento y operaciones similar al de los conjuntos matematicos [referencia](https://www.w3schools.com/python/python_sets.asp)."
      ]
    },
    {
      "cell_type": "code",
      "execution_count": 44,
      "metadata": {
        "colab": {
          "base_uri": "https://localhost:8080/"
        },
        "id": "hDkQ9d8rE-Mi",
        "outputId": "f9678eb6-61d2-4f80-8428-72416d05aebb"
      },
      "outputs": [
        {
          "name": "stdout",
          "output_type": "stream",
          "text": [
            "<class 'set'>\n"
          ]
        }
      ],
      "source": [
        "A1={\"Rojo\",\"Verde\",\"Azul\"}\n",
        "A2={\"Verde\",\"Negro\",\"Amarillo\"}\n",
        "print(type(A1))"
      ]
    },
    {
      "cell_type": "code",
      "execution_count": 45,
      "metadata": {
        "colab": {
          "base_uri": "https://localhost:8080/"
        },
        "id": "1iavl-toGLEh",
        "outputId": "b1790d0b-7ee8-4c4c-e357-55b0b1c69f5b"
      },
      "outputs": [
        {
          "name": "stdout",
          "output_type": "stream",
          "text": [
            "{'Verde'}\n"
          ]
        }
      ],
      "source": [
        "A3=A1.intersection(A2)\n",
        "print(A3)"
      ]
    },
    {
      "cell_type": "code",
      "execution_count": 46,
      "metadata": {
        "colab": {
          "base_uri": "https://localhost:8080/"
        },
        "id": "HRGChBBDM02w",
        "outputId": "443efb0a-18fc-4347-adf7-5d5d5cf74f04"
      },
      "outputs": [
        {
          "name": "stdout",
          "output_type": "stream",
          "text": [
            "{'Rojo', 'Azul', 'Negro', 'Amarillo', 'Verde'}\n"
          ]
        }
      ],
      "source": [
        "A4=A1.union(A2)\n",
        "print(A4)"
      ]
    },
    {
      "cell_type": "code",
      "execution_count": 47,
      "metadata": {
        "colab": {
          "base_uri": "https://localhost:8080/"
        },
        "id": "BmeHZPnrGp8T",
        "outputId": "e63f001a-6a52-48bc-8403-a16ad0c7230d"
      },
      "outputs": [
        {
          "name": "stdout",
          "output_type": "stream",
          "text": [
            "{'Rojo', 'Azul'}\n"
          ]
        }
      ],
      "source": [
        "A5=A1.difference(A2)\n",
        "print(A5)"
      ]
    },
    {
      "cell_type": "code",
      "execution_count": 48,
      "metadata": {
        "colab": {
          "base_uri": "https://localhost:8080/"
        },
        "id": "p9swWlHCNcsH",
        "outputId": "010c00f9-6af5-42f5-f35f-c2e10d9846b9"
      },
      "outputs": [
        {
          "name": "stdout",
          "output_type": "stream",
          "text": [
            "set()\n"
          ]
        }
      ],
      "source": [
        "A6=A5.intersection(A3)\n",
        "print(A6)"
      ]
    },
    {
      "cell_type": "code",
      "execution_count": 49,
      "metadata": {
        "colab": {
          "base_uri": "https://localhost:8080/"
        },
        "id": "rPMoHF5zIDTx",
        "outputId": "8ba06cdd-fdc1-490c-e114-4cb1f44a63ca"
      },
      "outputs": [
        {
          "data": {
            "text/plain": [
              "5"
            ]
          },
          "execution_count": 49,
          "metadata": {},
          "output_type": "execute_result"
        }
      ],
      "source": [
        "len(A4)"
      ]
    },
    {
      "cell_type": "code",
      "execution_count": 50,
      "metadata": {
        "colab": {
          "base_uri": "https://localhost:8080/"
        },
        "id": "xwW4H11QIDNZ",
        "outputId": "f07c1dc0-8f6d-4a08-e5ae-e82a4a422190"
      },
      "outputs": [
        {
          "name": "stdout",
          "output_type": "stream",
          "text": [
            "<class 'set'>\n",
            "{4, 5, 6}\n"
          ]
        }
      ],
      "source": [
        "C=set(range(4,7))\n",
        "print(type(C))\n",
        "print(C)"
      ]
    },
    {
      "cell_type": "code",
      "execution_count": 51,
      "metadata": {
        "colab": {
          "base_uri": "https://localhost:8080/"
        },
        "id": "Fvxh09M1N1uD",
        "outputId": "130a09db-0d1e-4949-b0ca-bdd7be754cec"
      },
      "outputs": [
        {
          "name": "stdout",
          "output_type": "stream",
          "text": [
            "<class 'set'>\n",
            "{4, 5, 6}\n"
          ]
        }
      ],
      "source": [
        "C=set(range(4,7))\n",
        "print(type(C))\n",
        "print(C)"
      ]
    },
    {
      "cell_type": "code",
      "execution_count": 52,
      "metadata": {
        "colab": {
          "base_uri": "https://localhost:8080/"
        },
        "id": "JoIv9xz2Oe-E",
        "outputId": "4c96ec76-b314-43a9-8461-cff32429d189"
      },
      "outputs": [
        {
          "name": "stdout",
          "output_type": "stream",
          "text": [
            "<class 'set'>\n",
            "{2, 6, 8, 9, 10}\n"
          ]
        }
      ],
      "source": [
        "A=set([2,6,9,8,10])\n",
        "print(type(A))\n",
        "print(A)"
      ]
    },
    {
      "cell_type": "code",
      "execution_count": 53,
      "metadata": {
        "colab": {
          "base_uri": "https://localhost:8080/"
        },
        "id": "pjZZQ_x5IDKl",
        "outputId": "8f517457-fdd5-4628-f7b7-d9647657ee1b"
      },
      "outputs": [
        {
          "name": "stdout",
          "output_type": "stream",
          "text": [
            "{True, 'pepe', (3, 7, 5), range(2, 8, 2)}\n"
          ]
        }
      ],
      "source": [
        "tupla=(3,7,5)\n",
        "sec=range(2,8,2)\n",
        "D={\"pepe\", True, tupla, sec}\n",
        "print(D)"
      ]
    },
    {
      "cell_type": "code",
      "execution_count": 54,
      "metadata": {
        "colab": {
          "base_uri": "https://localhost:8080/"
        },
        "id": "EFiXwwBbIDHD",
        "outputId": "9c3df4c2-f42c-427b-e8ec-d65db12b7305"
      },
      "outputs": [
        {
          "name": "stdout",
          "output_type": "stream",
          "text": [
            "{True, 100, range(2, 8, 2), 'pepe', (3, 7, 5)}\n"
          ]
        }
      ],
      "source": [
        "D.add(100) # adicionamos\n",
        "print(D)"
      ]
    },
    {
      "cell_type": "code",
      "execution_count": 55,
      "metadata": {
        "colab": {
          "base_uri": "https://localhost:8080/"
        },
        "id": "UZyNQD3NPMjC",
        "outputId": "96bbeb39-aa5d-4191-c17c-1963d045f637"
      },
      "outputs": [
        {
          "name": "stdout",
          "output_type": "stream",
          "text": [
            "False\n"
          ]
        }
      ],
      "source": [
        "prop1 = 0 in D\n",
        "print(prop1)"
      ]
    },
    {
      "cell_type": "markdown",
      "metadata": {
        "id": "yE1D2b22QYRB"
      },
      "source": [
        "#**Diccionario**\n",
        "\n",
        "Estrctura de datos que almacenamos datos en pares clave-valor. [referencia](https://)"
      ]
    },
    {
      "cell_type": "code",
      "execution_count": 56,
      "metadata": {
        "colab": {
          "base_uri": "https://localhost:8080/"
        },
        "id": "dQctHGnAPMeE",
        "outputId": "f43014cb-2de8-41b7-a45c-581dacf7ad50"
      },
      "outputs": [
        {
          "name": "stdout",
          "output_type": "stream",
          "text": [
            "<class 'dict'>\n",
            "Lima\n",
            "Buenos Aires\n",
            "Brasilia\n"
          ]
        }
      ],
      "source": [
        "capit= {\"Peru\": \"Lima\",\"Argentina\":\"Buenos Aires\",\"Brasil\":\"Brasilia\"}\n",
        "print(type(capit))\n",
        "print(capit[\"Peru\"])\n",
        "print(capit[\"Argentina\"])\n",
        "print(capit[\"Brasil\"])\n"
      ]
    },
    {
      "cell_type": "code",
      "execution_count": 57,
      "metadata": {
        "colab": {
          "base_uri": "https://localhost:8080/"
        },
        "id": "FU9Uw978PMY_",
        "outputId": "cb3964de-439b-4728-b80f-af36191419da"
      },
      "outputs": [
        {
          "name": "stdout",
          "output_type": "stream",
          "text": [
            "<class 'dict'>\n",
            "Lima\n",
            "Buenos Aires\n",
            "Brasilia\n"
          ]
        },
        {
          "data": {
            "text/plain": [
              "dict_values(['Lima', 'Buenos Aires', 'Brasilia'])"
            ]
          },
          "execution_count": 57,
          "metadata": {},
          "output_type": "execute_result"
        }
      ],
      "source": [
        "capit= {\"Peru\": \"Lima\",\"Argentina\":\"Buenos Aires\",\"Brasil\":\"Brasilia\"}\n",
        "print(type(capit))\n",
        "print(capit[\"Peru\"])\n",
        "print(capit[\"Argentina\"])\n",
        "print(capit[\"Brasil\"])\n",
        "capit.values()"
      ]
    },
    {
      "cell_type": "code",
      "execution_count": 58,
      "metadata": {
        "colab": {
          "base_uri": "https://localhost:8080/"
        },
        "id": "YBlT9Ge-PMVs",
        "outputId": "70642265-2aa2-4d1e-dab9-66838fbbeb78"
      },
      "outputs": [
        {
          "data": {
            "text/plain": [
              "dict_values(['Lima', 'Buenos Aires', 'Brasilia'])"
            ]
          },
          "execution_count": 58,
          "metadata": {},
          "output_type": "execute_result"
        }
      ],
      "source": [
        "capit= {\"Peru\": \"Lima\",\"Argentina\":\"Buenos Aires\",\"Brasil\":\"Brasilia\"}\n",
        "\n",
        "capit.values()"
      ]
    },
    {
      "cell_type": "code",
      "execution_count": 59,
      "metadata": {
        "id": "fEbbrTA9PMEt"
      },
      "outputs": [
        {
          "ename": "NameError",
          "evalue": "name 'pikacguaAttacks' is not defined",
          "output_type": "error",
          "traceback": [
            "\u001b[1;31m---------------------------------------------------------------------------\u001b[0m",
            "\u001b[1;31mNameError\u001b[0m                                 Traceback (most recent call last)",
            "Cell \u001b[1;32mIn[59], line 1\u001b[0m\n\u001b[1;32m----> 1\u001b[0m \u001b[43mpikacguaAttacks\u001b[49m\n\u001b[0;32m      2\u001b[0m \u001b[38;5;66;03m#falta compilar en fotos\u001b[39;00m\n",
            "\u001b[1;31mNameError\u001b[0m: name 'pikacguaAttacks' is not defined"
          ]
        }
      ],
      "source": [
        "pikacguaAttacks\n",
        "#falta compilar en fotos del cel"
      ]
    },
    {
      "cell_type": "markdown",
      "metadata": {
        "id": "WZda49ItTj9B"
      },
      "source": [
        "##**Libreria Numpay**\n",
        "\n",
        "Da soporte para crear vectores y matrices multidimensionales grandes, contieene una gran coleccion de funciones matematicas de alto nivel para operar con ellas.\n",
        "\n",
        "[referencia](https://aprendeconalf.es/docencia/python/manual/numpy/).\n",
        "\n",
        "<img src=\"https://aprendeconalf.es/docencia/python/manual/img/numpy-logo.png\">"
      ]
    },
    {
      "cell_type": "markdown",
      "metadata": {
        "id": "M0oC7AcuUzfJ"
      },
      "source": [
        "##**Clase ndarray** coloquialmente plantilla =¬ clase\n",
        "\n",
        "Contiene las estructuras de datos para almacenar los arreglos multidimensionales de datos homogeneos (todos los elementos de una matriz que tienen el mismo tipo de dato )\n",
        "\n",
        "[Referencia](https://numpy.org/doc/stable/reference/generated/numpy.array.html)"
      ]
    },
    {
      "cell_type": "code",
      "execution_count": 2,
      "metadata": {
        "colab": {
          "base_uri": "https://localhost:8080/"
        },
        "id": "2aRu7Uh2Tjm5",
        "outputId": "2e9ca1d1-2d05-4ac7-f4ed-dfd2e6193d74"
      },
      "outputs": [
        {
          "name": "stdout",
          "output_type": "stream",
          "text": [
            "<class 'numpy.ndarray'>\n",
            "int64\n"
          ]
        }
      ],
      "source": [
        "import numpy as np\n",
        "mat1=np.array([1,2,4]) # en arrray se puede saber las entradas y luego podemos predicir la cantidad de byts (memoria)\n",
        "print(type(mat1))\n",
        "print(mat1.dtype)\n"
      ]
    },
    {
      "cell_type": "code",
      "execution_count": 4,
      "metadata": {
        "colab": {
          "base_uri": "https://localhost:8080/"
        },
        "id": "5exQrjG1Tee6",
        "outputId": "3cd3df8a-5c6f-4811-ae62-a7c6328c671d"
      },
      "outputs": [
        {
          "name": "stdout",
          "output_type": "stream",
          "text": [
            "[[1 2 3]\n",
            " [4 5 6]]\n",
            "(2, 3)\n",
            "48\n",
            "6\n"
          ]
        }
      ],
      "source": [
        "mat2=np.array([[1,2,3],[4,5,6]])\n",
        "print(mat2)\n",
        "print(mat2.shape)\n",
        "print(mat2.nbytes)\n",
        "print(mat2.max())\n"
      ]
    },
    {
      "cell_type": "markdown",
      "metadata": {
        "id": "sAG1yTrlGywi"
      },
      "source": [
        "##Acceso de  a las entradas de matriz"
      ]
    },
    {
      "cell_type": "code",
      "execution_count": 5,
      "metadata": {
        "colab": {
          "base_uri": "https://localhost:8080/"
        },
        "id": "Qej7ZBNaPjV1",
        "outputId": "20dae160-a144-4f0a-c314-1fbb616ecf88"
      },
      "outputs": [
        {
          "name": "stdout",
          "output_type": "stream",
          "text": [
            "21\n"
          ]
        }
      ],
      "source": [
        "M=(mat2[0,0] + mat2[0,1] + mat2[0,2]+ mat2[1,0] + mat2[1,1] + mat2[1,2])\n",
        "#m=mat2[0,0]\n",
        "#n=mat2[0,2]\n",
        "print(M)\n"
      ]
    },
    {
      "cell_type": "code",
      "execution_count": 6,
      "metadata": {
        "colab": {
          "base_uri": "https://localhost:8080/"
        },
        "id": "dDM1b1bwG9He",
        "outputId": "c2f55ad6-e40a-438e-f7c0-fbb80f476b31"
      },
      "outputs": [
        {
          "data": {
            "text/plain": [
              "np.int64(21)"
            ]
          },
          "execution_count": 6,
          "metadata": {},
          "output_type": "execute_result"
        }
      ],
      "source": [
        "M=(mat2[0,0] + mat2[0,1] + mat2[0,2]+ mat2[1,0] + mat2[1,1] + mat2[1,2])\n",
        "#m=mat2[0,0]\n",
        "#n=mat2[0,2]\n",
        "M\n"
      ]
    },
    {
      "cell_type": "markdown",
      "metadata": {
        "id": "oAy8_Te-IgmN"
      },
      "source": [
        "##Atributos basicos de la clase  ndarray\n",
        "\n",
        "Un atributo de una clase, es una informacion referente al objeto creado en base a dicha clase (instancia de una clase)\n",
        "\n",
        "Atributo       |            Descripcion\n",
        "---------------|---------------------------------------------------------------------\n",
        "Shape | Tupla que contine el numero de elementos  en cada eje de la matriz\n",
        "Size  | Numero total de elementos de una matriz\n",
        "nbytes | Nu mero de bytes utilizados para almacenar los datos.\n",
        "dtype  | Tipo de datos de los elementos\n",
        "[Referencia]\n",
        "\n",
        "<img src=\"https://aprendeconalf.es/docencia/python/manual/img/arrays.png\">"
      ]
    },
    {
      "cell_type": "code",
      "execution_count": 7,
      "metadata": {
        "colab": {
          "base_uri": "https://localhost:8080/"
        },
        "id": "O0hFv9tpIevX",
        "outputId": "04806425-4023-4540-c6bd-604a81cce194"
      },
      "outputs": [
        {
          "name": "stdout",
          "output_type": "stream",
          "text": [
            "<class 'numpy.ndarray'>\n",
            "float64\n",
            "[[1.  2.5]\n",
            " [5.  5. ]\n",
            " [5.  8. ]]\n",
            "1.0\n"
          ]
        }
      ],
      "source": [
        "matriz = np.array([[1,2.5],[5,5],[5,8]])\n",
        "print(type(matriz))\n",
        "print(matriz.dtype)\n",
        "print(matriz)\n",
        "print(matriz[0,0])\n"
      ]
    },
    {
      "cell_type": "code",
      "execution_count": 8,
      "metadata": {
        "colab": {
          "base_uri": "https://localhost:8080/"
        },
        "id": "QwoLI1ZePzIc",
        "outputId": "801f43ee-b20f-43bf-aa4b-5729267c2774"
      },
      "outputs": [
        {
          "name": "stdout",
          "output_type": "stream",
          "text": [
            "<class 'numpy.ndarray'>\n",
            "float64\n",
            "[[1.  2.5]\n",
            " [5.  5. ]\n",
            " [5.  8. ]]\n",
            "1.0\n",
            "(3, 2)\n"
          ]
        }
      ],
      "source": [
        "matriz = np.array([[1,2.5],[5,5],[5,8]])\n",
        "print(type(matriz))\n",
        "print(matriz.dtype)\n",
        "print(matriz)\n",
        "print(matriz[0,0])\n",
        "print(matriz.shape)\n"
      ]
    },
    {
      "cell_type": "code",
      "execution_count": 9,
      "metadata": {
        "colab": {
          "base_uri": "https://localhost:8080/"
        },
        "id": "ZD6OrwKyQOK8",
        "outputId": "b308b8fa-530a-4243-a74d-853714a9d5d6"
      },
      "outputs": [
        {
          "name": "stdout",
          "output_type": "stream",
          "text": [
            "<class 'numpy.ndarray'>\n",
            "float64\n",
            "[[1.  2.5]\n",
            " [5.  5. ]\n",
            " [5.  8. ]]\n",
            "1.0\n"
          ]
        }
      ],
      "source": [
        "matriz = np.array([[1,2.5],[5,5],[5,8]])\n",
        "print(type(matriz))\n",
        "print(matriz.dtype)\n",
        "print(matriz)\n",
        "print(matriz[0,0])\n",
        "\n"
      ]
    },
    {
      "cell_type": "code",
      "execution_count": 10,
      "metadata": {
        "colab": {
          "base_uri": "https://localhost:8080/"
        },
        "id": "ktYpP3u_QxFk",
        "outputId": "417132c4-8fd2-4a57-b82b-85c71790227a"
      },
      "outputs": [
        {
          "name": "stdout",
          "output_type": "stream",
          "text": [
            "numero de entradas : 6\n",
            "El mayor entrada: 8.0\n",
            "posicion de la mayor entrada es: (np.int64(2), np.int64(1))\n"
          ]
        }
      ],
      "source": [
        "print(\"numero de entradas :\",matriz.size)\n",
        "print(\"El mayor entrada:\", np.max(matriz))\n",
        "ind = np.unravel_index(np.argmax(matriz,axis=None), matriz.shape)\n",
        "#ind = np.unravel_index(np.argmax(matriz,axis=0), matriz.shape)\n",
        "print(\"posicion de la mayor entrada es:\", ind)"
      ]
    },
    {
      "cell_type": "code",
      "execution_count": 35,
      "metadata": {},
      "outputs": [
        {
          "name": "stdout",
          "output_type": "stream",
          "text": [
            "<class 'numpy.ndarray'>\n",
            "[[1 2]\n",
            " [3 4]\n",
            " [5 6]]\n",
            "2\n",
            "(3, 2)\n",
            "6\n",
            "48\n"
          ]
        }
      ],
      "source": [
        " data = np.array([[1, 2], [3, 4], [5, 6]])\n",
        " print(type(data))\n",
        " print(data)\n",
        " print(data.ndim)\n",
        " print(data.shape)\n",
        " print(data.size)\n",
        " print(data.nbytes)\n",
        " "
      ]
    },
    {
      "cell_type": "code",
      "execution_count": 15,
      "metadata": {},
      "outputs": [
        {
          "name": "stdout",
          "output_type": "stream",
          "text": [
            "(3,)\n",
            "int64\n",
            "[11. 12. 13.]\n",
            "float16\n",
            "[1.+0.j 2.+0.j 3.+0.j]\n"
          ]
        }
      ],
      "source": [
        "matriz= np.array([1, 2, 3], dtype=np.int64)\n",
        "print(matriz.shape)\n",
        "print(matriz.dtype)\n",
        "matriz2= np.array([11, 12, 13], dtype=np.float16)\n",
        "print(matriz2)\n",
        "print(matriz2.dtype)\n",
        "matriz3= np.array([1, 2, 3], dtype=np.complex64)\n",
        "print(matriz3)\n"
      ]
    },
    {
      "cell_type": "code",
      "execution_count": 16,
      "metadata": {},
      "outputs": [
        {
          "name": "stdout",
          "output_type": "stream",
          "text": [
            "[2.+0.j 4.+0.j 6.+0.j]\n",
            "complex64\n"
          ]
        }
      ],
      "source": [
        "mat1=np.array([1,2,3],dtype=np.complex64)\n",
        "mat2=np.array([1,2,3],dtype=np.complex64)\n",
        "mat3=mat1+mat2\n",
        "print(mat3)\n",
        "print(mat3.dtype)"
      ]
    },
    {
      "cell_type": "code",
      "execution_count": 30,
      "metadata": {},
      "outputs": [
        {
          "name": "stdout",
          "output_type": "stream",
          "text": [
            "[0.+2.j 3.+0.j 4.+0.j]\n"
          ]
        }
      ],
      "source": [
        "#np.sqrt(np.array([-4, 9, 16])); no reconoce en este caso para ello lo mencionamos\n",
        "mat5=np.sqrt(np.array([-4 , 9, 16], dtype=np.complex64));\n",
        "print(mat5)"
      ]
    },
    {
      "cell_type": "code",
      "execution_count": 34,
      "metadata": {},
      "outputs": [
        {
          "name": "stdout",
          "output_type": "stream",
          "text": [
            "[ 0.7568025-0.j  0.4121185-0.j -0.2879033-0.j]\n"
          ]
        }
      ],
      "source": [
        "mat6=np.sin(np.array([-4 , 9, 16], dtype=np.complex64));\n",
        "print(mat6)"
      ]
    },
    {
      "cell_type": "code",
      "execution_count": 41,
      "metadata": {},
      "outputs": [
        {
          "name": "stdout",
          "output_type": "stream",
          "text": [
            "[0.+2.j 3.+0.j 4.+0.j]\n",
            "[0. 3. 4.]\n",
            "[2. 0. 0.]\n"
          ]
        }
      ],
      "source": [
        "#np.sqrt(np.array([-4, 9, 16])); no reconoce en este caso para ello lo mencionamos\n",
        "mat5=np.sqrt(np.array([-4 , 9, 16], dtype=np.complex64));\n",
        "print(mat5)\n",
        "print(mat5.real)\n",
        "print(mat5.imag)\n"
      ]
    },
    {
      "cell_type": "code",
      "execution_count": 43,
      "metadata": {},
      "outputs": [
        {
          "name": "stdout",
          "output_type": "stream",
          "text": [
            "<class 'numpy.ndarray'>\n",
            "int32\n",
            "[[0 0]\n",
            " [0 0]\n",
            " [0 0]]\n"
          ]
        }
      ],
      "source": [
        "mat7=np.zeros((3,2),dtype=np.int32); #tupla\n",
        "print(type(mat7))\n",
        "print(mat7.dtype)\n",
        "print(mat7)\n"
      ]
    },
    {
      "cell_type": "code",
      "execution_count": 45,
      "metadata": {},
      "outputs": [
        {
          "name": "stdout",
          "output_type": "stream",
          "text": [
            "<class 'numpy.ndarray'>\n",
            "int32\n",
            "[[1 1]\n",
            " [1 1]\n",
            " [1 1]]\n"
          ]
        }
      ],
      "source": [
        "mat7=np.ones((3,2),dtype=np.int32); #tupla\n",
        "print(type(mat7))\n",
        "print(mat7.dtype)\n",
        "print(mat7)\n"
      ]
    },
    {
      "cell_type": "code",
      "execution_count": 47,
      "metadata": {},
      "outputs": [
        {
          "name": "stdout",
          "output_type": "stream",
          "text": [
            "<class 'numpy.ndarray'>\n",
            "int32\n",
            "[1 1 1 1]\n",
            "[6 6 6 6]\n"
          ]
        }
      ],
      "source": [
        "mat7=np.ones(4,dtype=np.int32); #tupla\n",
        "print(type(mat7))\n",
        "print(mat7.dtype)\n",
        "print(mat7)\n",
        "\n",
        "mat8=6*mat7\n",
        "print(mat8)\n"
      ]
    },
    {
      "cell_type": "code",
      "execution_count": 70,
      "metadata": {},
      "outputs": [
        {
          "name": "stdout",
          "output_type": "stream",
          "text": [
            "float64\n",
            "[0. 0. 0.]\n"
          ]
        }
      ],
      "source": [
        "mat9=np.empty(3)\n",
        "print(mat9.dtype)\n",
        "print(mat9)\n",
        "#print(mat9[0])"
      ]
    },
    {
      "cell_type": "code",
      "execution_count": 86,
      "metadata": {},
      "outputs": [
        {
          "name": "stdout",
          "output_type": "stream",
          "text": [
            "float64\n",
            "[0. 0. 0.]\n"
          ]
        }
      ],
      "source": [
        "mat10=np.empty(3,dtype=np.float64)\n",
        "print(mat10.dtype)\n",
        "print(mat10)\n",
        "#print(mat10[0])"
      ]
    },
    {
      "cell_type": "code",
      "execution_count": 100,
      "metadata": {},
      "outputs": [
        {
          "name": "stdout",
          "output_type": "stream",
          "text": [
            "float64\n",
            "[3. 3. 3.]\n",
            "[3. 3. 3.]\n"
          ]
        }
      ],
      "source": [
        "mat11=np.empty(3,dtype=np.float64)\n",
        "print(mat11.dtype)\n",
        "print(mat11)\n",
        "mat11.fill(3)\n",
        "print(mat11)"
      ]
    },
    {
      "cell_type": "code",
      "execution_count": 94,
      "metadata": {},
      "outputs": [
        {
          "name": "stdout",
          "output_type": "stream",
          "text": [
            "[0. 1. 2. 3. 4. 5. 6. 7. 8. 9.]\n",
            "[0. 2. 4. 6. 8.]\n",
            "[ 0.          1.11111111  2.22222222  3.33333333  4.44444444  5.55555556\n",
            "  6.66666667  7.77777778  8.88888889 10.        ]\n"
          ]
        }
      ],
      "source": [
        "mat12=np.arange(0.,10.,1.)\n",
        "mat13=np.arange(0.,10.,2.)\n",
        "mat14=np.linspace(0,10,10)\n",
        "print(mat12)\n",
        "print(mat13)\n",
        "print(mat14)"
      ]
    },
    {
      "cell_type": "markdown",
      "metadata": {},
      "source": [
        "## *tarea 12/10/2024*\n",
        "\n",
        "*Generar dos matrices A y B de tipo int8; de 5x6, luego, efectuar la suma C=A+B e imprimir.*"
      ]
    },
    {
      "cell_type": "code",
      "execution_count": 127,
      "metadata": {},
      "outputs": [
        {
          "name": "stdout",
          "output_type": "stream",
          "text": [
            "Matriz A:\n",
            "[[1 2 3 4 5 6]\n",
            " [7 8 9 0 1 2]\n",
            " [3 4 5 6 7 8]\n",
            " [9 0 1 2 3 4]\n",
            " [5 6 7 8 9 0]]\n"
          ]
        }
      ],
      "source": [
        "# Creamos las matrices \n",
        "A = np.array([\n",
        "    [1, 2, 3, 4, 5, 6],\n",
        "    [7, 8, 9, 0, 1, 2],\n",
        "    [3, 4, 5, 6, 7, 8],\n",
        "    [9, 0, 1, 2, 3, 4],\n",
        "    [5, 6, 7, 8, 9, 0]\n",
        "], dtype=np.int8)\n",
        "\n",
        "print(\"Matriz A:\")\n",
        "print(A)"
      ]
    },
    {
      "cell_type": "code",
      "execution_count": 112,
      "metadata": {},
      "outputs": [
        {
          "name": "stdout",
          "output_type": "stream",
          "text": [
            "\n",
            "Matriz B:\n",
            "[[6 5 4 3 2 1]\n",
            " [2 1 0 9 8 7]\n",
            " [8 7 6 5 4 3]\n",
            " [4 3 2 1 0 9]\n",
            " [9 8 7 6 5 4]]\n"
          ]
        }
      ],
      "source": [
        "B = np.array([\n",
        "    [6, 5, 4, 3, 2, 1],\n",
        "    [2, 1, 0, 9, 8, 7],\n",
        "    [8, 7, 6, 5, 4, 3],\n",
        "    [4, 3, 2, 1, 0, 9],\n",
        "    [9, 8, 7, 6, 5, 4]\n",
        "], dtype=np.int8)\n",
        "print(\"\\nMatriz B:\")\n",
        "print(B)"
      ]
    },
    {
      "cell_type": "code",
      "execution_count": 128,
      "metadata": {},
      "outputs": [
        {
          "name": "stdout",
          "output_type": "stream",
          "text": [
            "\n",
            "Matriz C = A + B:\n",
            "[[ 7  7  7  7  7  7]\n",
            " [ 9  9  9  9  9  9]\n",
            " [11 11 11 11 11 11]\n",
            " [13  3  3  3  3 13]\n",
            " [14 14 14 14 14  4]]\n"
          ]
        }
      ],
      "source": [
        "# sumamos  C = A + B\n",
        "C = A + B\n",
        "print(\"\\nMatriz C = A + B:\")\n",
        "print(C)"
      ]
    },
    {
      "cell_type": "markdown",
      "metadata": {},
      "source": [
        "*Mostrar 5 atributos de la matriz suma anterior.*"
      ]
    },
    {
      "cell_type": "code",
      "execution_count": 129,
      "metadata": {},
      "outputs": [
        {
          "name": "stdout",
          "output_type": "stream",
          "text": [
            "Forma: (5, 6)\n",
            "Dimensión: 2\n",
            "Tamaño: 30\n",
            "Tipo de Datos: int8\n",
            "Matriz Transpuesta:\n",
            " [[ 7  9 11 13 14]\n",
            " [ 7  9 11  3 14]\n",
            " [ 7  9 11  3 14]\n",
            " [ 7  9 11  3 14]\n",
            " [ 7  9 11  3 14]\n",
            " [ 7  9 11 13  4]]\n"
          ]
        }
      ],
      "source": [
        "\n",
        "shape = C.shape\n",
        "print(\"Forma:\", shape)\n",
        "\n",
        "dimension = C.ndim\n",
        "print(\"Dimensión:\", dimension)\n",
        "\n",
        "size = C.size\n",
        "print(\"Tamaño:\", size)\n",
        "\n",
        "dtype = C.dtype\n",
        "print(\"Tipo de Datos:\", dtype)\n",
        "\n",
        "transpuesta = C.T\n",
        "print(\"Matriz Transpuesta:\\n\", transpuesta)\n"
      ]
    },
    {
      "cell_type": "markdown",
      "metadata": {},
      "source": [
        "*Generar un arreglo unidimensional de tamaño 10 vacío de tipo float32 e imprimir, luego llenar con 20 e imprimir el arreglo.*"
      ]
    },
    {
      "cell_type": "code",
      "execution_count": 123,
      "metadata": {},
      "outputs": [
        {
          "name": "stdout",
          "output_type": "stream",
          "text": [
            "Arreglo vacío de tipo float32:\n",
            "[20. 20. 20. 20. 20. 20. 20. 20. 20. 20.]\n",
            "\n",
            "Arreglo lleno con el valor 20:\n",
            "[20. 20. 20. 20. 20. 20. 20. 20. 20. 20.]\n"
          ]
        }
      ],
      "source": [
        "# Generar un arreglo unidimensional de tamaño 10 vacío de tipo float32\n",
        "M = np.empty(10, dtype=np.float32)\n",
        "print(\"Arreglo vacío de tipo float32:\") # como esto podria ser basura al principio o ceros como digo en clase.\n",
        "print(M)\n",
        "\n",
        "# Aqui rellenamos con 20\n",
        "M.fill(20)\n",
        "print(\"\\nArreglo lleno con el valor 20:\")\n",
        "print(M)"
      ]
    }
  ],
  "metadata": {
    "colab": {
      "provenance": []
    },
    "kernelspec": {
      "display_name": "Python 3",
      "name": "python3"
    },
    "language_info": {
      "codemirror_mode": {
        "name": "ipython",
        "version": 3
      },
      "file_extension": ".py",
      "mimetype": "text/x-python",
      "name": "python",
      "nbconvert_exporter": "python",
      "pygments_lexer": "ipython3",
      "version": "3.12.7"
    }
  },
  "nbformat": 4,
  "nbformat_minor": 0
}
